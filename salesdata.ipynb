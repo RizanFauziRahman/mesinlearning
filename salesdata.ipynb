{
  "cells": [
    {
      "cell_type": "code",
      "execution_count": 41,
      "metadata": {
        "id": "EH18-1c4T4wm"
      },
      "outputs": [],
      "source": [
        "import pandas as pd\n",
        "import numpy as np\n",
        "import matplotlib.pyplot as plt\n",
        "import seaborn as sns\n",
        "from sklearn.model_selection import train_test_split\n",
        "from sklearn.linear_model import LinearRegression"
      ]
    },
    {
      "cell_type": "code",
      "execution_count": 7,
      "metadata": {
        "id": "Rn3Tu6ZRT-4a"
      },
      "outputs": [],
      "source": [
        "df = pd.read_csv('sales_data.csv')"
      ]
    },
    {
      "cell_type": "code",
      "execution_count": 8,
      "metadata": {
        "colab": {
          "base_uri": "https://localhost:8080/",
          "height": 504
        },
        "id": "tnubBH3ZUGvL",
        "outputId": "1bc07f63-78dd-4d9f-b404-60a6af40bcd6"
      },
      "outputs": [
        {
          "data": {
            "text/html": [
              "<div>\n",
              "<style scoped>\n",
              "    .dataframe tbody tr th:only-of-type {\n",
              "        vertical-align: middle;\n",
              "    }\n",
              "\n",
              "    .dataframe tbody tr th {\n",
              "        vertical-align: top;\n",
              "    }\n",
              "\n",
              "    .dataframe thead th {\n",
              "        text-align: right;\n",
              "    }\n",
              "</style>\n",
              "<table border=\"1\" class=\"dataframe\">\n",
              "  <thead>\n",
              "    <tr style=\"text-align: right;\">\n",
              "      <th></th>\n",
              "      <th>Order Date</th>\n",
              "      <th>Order ID</th>\n",
              "      <th>Product</th>\n",
              "      <th>Product_ean</th>\n",
              "      <th>catégorie</th>\n",
              "      <th>Purchase Address</th>\n",
              "      <th>Quantity Ordered</th>\n",
              "      <th>Price Each</th>\n",
              "      <th>Cost price</th>\n",
              "      <th>turnover</th>\n",
              "      <th>margin</th>\n",
              "    </tr>\n",
              "  </thead>\n",
              "  <tbody>\n",
              "    <tr>\n",
              "      <th>0</th>\n",
              "      <td>2019-01-22 21:25:00</td>\n",
              "      <td>141234</td>\n",
              "      <td>iPhone</td>\n",
              "      <td>5.638009e+12</td>\n",
              "      <td>Vêtements</td>\n",
              "      <td>944 Walnut St, Boston, MA 02215</td>\n",
              "      <td>1</td>\n",
              "      <td>700.00</td>\n",
              "      <td>231.0000</td>\n",
              "      <td>700.00</td>\n",
              "      <td>469.0000</td>\n",
              "    </tr>\n",
              "    <tr>\n",
              "      <th>1</th>\n",
              "      <td>2019-01-28 14:15:00</td>\n",
              "      <td>141235</td>\n",
              "      <td>Lightning Charging Cable</td>\n",
              "      <td>5.563320e+12</td>\n",
              "      <td>Alimentation</td>\n",
              "      <td>185 Maple St, Portland, OR 97035</td>\n",
              "      <td>1</td>\n",
              "      <td>14.95</td>\n",
              "      <td>7.4750</td>\n",
              "      <td>14.95</td>\n",
              "      <td>7.4750</td>\n",
              "    </tr>\n",
              "    <tr>\n",
              "      <th>2</th>\n",
              "      <td>2019-01-17 13:33:00</td>\n",
              "      <td>141236</td>\n",
              "      <td>Wired Headphones</td>\n",
              "      <td>2.113973e+12</td>\n",
              "      <td>Vêtements</td>\n",
              "      <td>538 Adams St, San Francisco, CA 94016</td>\n",
              "      <td>2</td>\n",
              "      <td>11.99</td>\n",
              "      <td>5.9950</td>\n",
              "      <td>23.98</td>\n",
              "      <td>11.9900</td>\n",
              "    </tr>\n",
              "    <tr>\n",
              "      <th>3</th>\n",
              "      <td>2019-01-05 20:33:00</td>\n",
              "      <td>141237</td>\n",
              "      <td>27in FHD Monitor</td>\n",
              "      <td>3.069157e+12</td>\n",
              "      <td>Sports</td>\n",
              "      <td>738 10th St, Los Angeles, CA 90001</td>\n",
              "      <td>1</td>\n",
              "      <td>149.99</td>\n",
              "      <td>97.4935</td>\n",
              "      <td>149.99</td>\n",
              "      <td>52.4965</td>\n",
              "    </tr>\n",
              "    <tr>\n",
              "      <th>4</th>\n",
              "      <td>2019-01-25 11:59:00</td>\n",
              "      <td>141238</td>\n",
              "      <td>Wired Headphones</td>\n",
              "      <td>9.692681e+12</td>\n",
              "      <td>Électronique</td>\n",
              "      <td>387 10th St, Austin, TX 73301</td>\n",
              "      <td>1</td>\n",
              "      <td>11.99</td>\n",
              "      <td>5.9950</td>\n",
              "      <td>11.99</td>\n",
              "      <td>5.9950</td>\n",
              "    </tr>\n",
              "  </tbody>\n",
              "</table>\n",
              "</div>"
            ],
            "text/plain": [
              "            Order Date  Order ID                   Product   Product_ean  \\\n",
              "0  2019-01-22 21:25:00    141234                    iPhone  5.638009e+12   \n",
              "1  2019-01-28 14:15:00    141235  Lightning Charging Cable  5.563320e+12   \n",
              "2  2019-01-17 13:33:00    141236          Wired Headphones  2.113973e+12   \n",
              "3  2019-01-05 20:33:00    141237          27in FHD Monitor  3.069157e+12   \n",
              "4  2019-01-25 11:59:00    141238          Wired Headphones  9.692681e+12   \n",
              "\n",
              "      catégorie                       Purchase Address  Quantity Ordered  \\\n",
              "0     Vêtements        944 Walnut St, Boston, MA 02215                 1   \n",
              "1  Alimentation       185 Maple St, Portland, OR 97035                 1   \n",
              "2     Vêtements  538 Adams St, San Francisco, CA 94016                 2   \n",
              "3        Sports     738 10th St, Los Angeles, CA 90001                 1   \n",
              "4  Électronique          387 10th St, Austin, TX 73301                 1   \n",
              "\n",
              "   Price Each  Cost price  turnover    margin  \n",
              "0      700.00    231.0000    700.00  469.0000  \n",
              "1       14.95      7.4750     14.95    7.4750  \n",
              "2       11.99      5.9950     23.98   11.9900  \n",
              "3      149.99     97.4935    149.99   52.4965  \n",
              "4       11.99      5.9950     11.99    5.9950  "
            ]
          },
          "execution_count": 8,
          "metadata": {},
          "output_type": "execute_result"
        }
      ],
      "source": [
        "df.head()"
      ]
    },
    {
      "cell_type": "code",
      "execution_count": 9,
      "metadata": {
        "colab": {
          "base_uri": "https://localhost:8080/"
        },
        "id": "A2SmeWVOUMQm",
        "outputId": "8456356c-7840-48fa-813d-b6f60ebe0e92"
      },
      "outputs": [
        {
          "name": "stdout",
          "output_type": "stream",
          "text": [
            "<class 'pandas.core.frame.DataFrame'>\n",
            "RangeIndex: 185950 entries, 0 to 185949\n",
            "Data columns (total 11 columns):\n",
            " #   Column            Non-Null Count   Dtype  \n",
            "---  ------            --------------   -----  \n",
            " 0   Order Date        185950 non-null  object \n",
            " 1   Order ID          185950 non-null  int64  \n",
            " 2   Product           185950 non-null  object \n",
            " 3   Product_ean       185950 non-null  float64\n",
            " 4   catégorie         185950 non-null  object \n",
            " 5   Purchase Address  185950 non-null  object \n",
            " 6   Quantity Ordered  185950 non-null  int64  \n",
            " 7   Price Each        185950 non-null  float64\n",
            " 8   Cost price        185950 non-null  float64\n",
            " 9   turnover          185950 non-null  float64\n",
            " 10  margin            185950 non-null  float64\n",
            "dtypes: float64(5), int64(2), object(4)\n",
            "memory usage: 15.6+ MB\n"
          ]
        }
      ],
      "source": [
        "df.info()"
      ]
    },
    {
      "cell_type": "code",
      "execution_count": 10,
      "metadata": {},
      "outputs": [
        {
          "data": {
            "text/plain": [
              "<Axes: >"
            ]
          },
          "execution_count": 10,
          "metadata": {},
          "output_type": "execute_result"
        },
        {
          "data": {
            "image/png": "[encoded data removed]",
            "text/plain": [
              "<Figure size 640x480 with 2 Axes>"
            ]
          },
          "metadata": {},
          "output_type": "display_data"
        }
      ],
      "source": [
        "sns.heatmap(df.isnull())"
      ]
    },
    {
      "cell_type": "code",
      "execution_count": 11,
      "metadata": {},
      "outputs": [
        {
          "data": {
            "text/html": [
              "<div>\n",
              "<style scoped>\n",
              "    .dataframe tbody tr th:only-of-type {\n",
              "        vertical-align: middle;\n",
              "    }\n",
              "\n",
              "    .dataframe tbody tr th {\n",
              "        vertical-align: top;\n",
              "    }\n",
              "\n",
              "    .dataframe thead th {\n",
              "        text-align: right;\n",
              "    }\n",
              "</style>\n",
              "<table border=\"1\" class=\"dataframe\">\n",
              "  <thead>\n",
              "    <tr style=\"text-align: right;\">\n",
              "      <th></th>\n",
              "      <th>Order ID</th>\n",
              "      <th>Product_ean</th>\n",
              "      <th>Quantity Ordered</th>\n",
              "      <th>Price Each</th>\n",
              "      <th>Cost price</th>\n",
              "      <th>turnover</th>\n",
              "      <th>margin</th>\n",
              "    </tr>\n",
              "  </thead>\n",
              "  <tbody>\n",
              "    <tr>\n",
              "      <th>count</th>\n",
              "      <td>185950.000000</td>\n",
              "      <td>1.859500e+05</td>\n",
              "      <td>185950.000000</td>\n",
              "      <td>185950.000000</td>\n",
              "      <td>185950.000000</td>\n",
              "      <td>185950.000000</td>\n",
              "      <td>185950.000000</td>\n",
              "    </tr>\n",
              "    <tr>\n",
              "      <th>mean</th>\n",
              "      <td>230417.569379</td>\n",
              "      <td>5.509211e+12</td>\n",
              "      <td>1.124383</td>\n",
              "      <td>184.399735</td>\n",
              "      <td>69.668583</td>\n",
              "      <td>185.490917</td>\n",
              "      <td>115.289422</td>\n",
              "    </tr>\n",
              "    <tr>\n",
              "      <th>std</th>\n",
              "      <td>51512.737110</td>\n",
              "      <td>2.598403e+12</td>\n",
              "      <td>0.442793</td>\n",
              "      <td>332.731330</td>\n",
              "      <td>109.424191</td>\n",
              "      <td>332.919771</td>\n",
              "      <td>225.227190</td>\n",
              "    </tr>\n",
              "    <tr>\n",
              "      <th>min</th>\n",
              "      <td>141234.000000</td>\n",
              "      <td>1.000083e+12</td>\n",
              "      <td>1.000000</td>\n",
              "      <td>2.990000</td>\n",
              "      <td>1.495000</td>\n",
              "      <td>2.990000</td>\n",
              "      <td>1.495000</td>\n",
              "    </tr>\n",
              "    <tr>\n",
              "      <th>25%</th>\n",
              "      <td>185831.250000</td>\n",
              "      <td>3.254280e+12</td>\n",
              "      <td>1.000000</td>\n",
              "      <td>11.950000</td>\n",
              "      <td>5.975000</td>\n",
              "      <td>11.950000</td>\n",
              "      <td>5.975000</td>\n",
              "    </tr>\n",
              "    <tr>\n",
              "      <th>50%</th>\n",
              "      <td>230367.500000</td>\n",
              "      <td>5.511235e+12</td>\n",
              "      <td>1.000000</td>\n",
              "      <td>14.950000</td>\n",
              "      <td>7.475000</td>\n",
              "      <td>14.950000</td>\n",
              "      <td>7.475000</td>\n",
              "    </tr>\n",
              "    <tr>\n",
              "      <th>75%</th>\n",
              "      <td>275035.750000</td>\n",
              "      <td>7.765195e+12</td>\n",
              "      <td>1.000000</td>\n",
              "      <td>150.000000</td>\n",
              "      <td>97.500000</td>\n",
              "      <td>150.000000</td>\n",
              "      <td>52.500000</td>\n",
              "    </tr>\n",
              "    <tr>\n",
              "      <th>max</th>\n",
              "      <td>319670.000000</td>\n",
              "      <td>9.999983e+12</td>\n",
              "      <td>9.000000</td>\n",
              "      <td>1700.000000</td>\n",
              "      <td>561.000000</td>\n",
              "      <td>3400.000000</td>\n",
              "      <td>2278.000000</td>\n",
              "    </tr>\n",
              "  </tbody>\n",
              "</table>\n",
              "</div>"
            ],
            "text/plain": [
              "            Order ID   Product_ean  Quantity Ordered     Price Each  \\\n",
              "count  185950.000000  1.859500e+05     185950.000000  185950.000000   \n",
              "mean   230417.569379  5.509211e+12          1.124383     184.399735   \n",
              "std     51512.737110  2.598403e+12          0.442793     332.731330   \n",
              "min    141234.000000  1.000083e+12          1.000000       2.990000   \n",
              "25%    185831.250000  3.254280e+12          1.000000      11.950000   \n",
              "50%    230367.500000  5.511235e+12          1.000000      14.950000   \n",
              "75%    275035.750000  7.765195e+12          1.000000     150.000000   \n",
              "max    319670.000000  9.999983e+12          9.000000    1700.000000   \n",
              "\n",
              "          Cost price       turnover         margin  \n",
              "count  185950.000000  185950.000000  185950.000000  \n",
              "mean       69.668583     185.490917     115.289422  \n",
              "std       109.424191     332.919771     225.227190  \n",
              "min         1.495000       2.990000       1.495000  \n",
              "25%         5.975000      11.950000       5.975000  \n",
              "50%         7.475000      14.950000       7.475000  \n",
              "75%        97.500000     150.000000      52.500000  \n",
              "max       561.000000    3400.000000    2278.000000  "
            ]
          },
          "execution_count": 11,
          "metadata": {},
          "output_type": "execute_result"
        }
      ],
      "source": [
        "df.describe()"
      ]
    },
    {
      "cell_type": "code",
      "execution_count": 30,
      "metadata": {
        "colab": {
          "base_uri": "https://localhost:8080/"
        },
        "id": "dUtiRI71UVnm",
        "outputId": "ec69fbb8-07c1-4f80-ad9b-9201c31513ef"
      },
      "outputs": [
        {
          "data": {
            "text/plain": [
              "((185950, 4), (185950,))"
            ]
          },
          "execution_count": 30,
          "metadata": {},
          "output_type": "execute_result"
        }
      ],
      "source": [
        "features = ['Product_ean', 'Price Each', 'turnover', 'Quantity Ordered']\n",
        "x = df[features]\n",
        "y = df['Cost price']\n",
        "x.shape, y.shape"
      ]
    },
    {
      "cell_type": "code",
      "execution_count": 32,
      "metadata": {},
      "outputs": [
        {
          "data": {
            "text/plain": [
              "(37190,)"
            ]
          },
          "execution_count": 32,
          "metadata": {},
          "output_type": "execute_result"
        }
      ],
      "source": [
        "from sklearn.model_selection import train_test_split\n",
        "x_train,x_test,y_train,y_test = train_test_split(x,y,test_size=0.2,random_state=2)\n",
        "y_test.shape"
      ]
    },
    {
      "cell_type": "code",
      "execution_count": 33,
      "metadata": {},
      "outputs": [],
      "source": [
        "from sklearn.linear_model import LinearRegression\n",
        "lr = LinearRegression()\n",
        "lr.fit(x_train,y_train)\n",
        "predik = lr.predict(x_test)"
      ]
    },
    {
      "cell_type": "code",
      "execution_count": 34,
      "metadata": {
        "colab": {
          "base_uri": "https://localhost:8080/"
        },
        "id": "WGnQ3AYtUsG1",
        "outputId": "861381e5-a2fe-4c6e-f0de-ef3f3e4a03d5"
      },
      "outputs": [
        {
          "name": "stdout",
          "output_type": "stream",
          "text": [
            "Akurasi Model Regresi Linier: 0.9939195048015663\n"
          ]
        }
      ],
      "source": [
        "y = lr.score(x_test, y_test)\n",
        "print('Akurasi Model Regresi Linier:', y)"
      ]
    },
    {
      "cell_type": "code",
      "execution_count": 38,
      "metadata": {
        "id": "T-xnSQ4RUwDh"
      },
      "outputs": [
        {
          "name": "stdout",
          "output_type": "stream",
          "text": [
            "sales : [91.05752142]\n"
          ]
        },
        {
          "name": "stderr",
          "output_type": "stream",
          "text": [
            "c:\\Users\\L e n o v o\\anaconda3\\Lib\\site-packages\\sklearn\\base.py:464: UserWarning: X does not have valid feature names, but LinearRegression was fitted with feature names\n",
            "  warnings.warn(\n"
          ]
        }
      ],
      "source": [
        "#Product ean = 2.113973e+12\t, Price Each = 149.99 , turnover = 185.490917 , Quantity Ordered = 1\n",
        "inputan = np.array([[2.113973e+12, 149.99, 2.990000, 1]])\n",
        "prediksi = lr.predict(inputan)\n",
        "print('sales :', prediksi)"
      ]
    },
    {
      "cell_type": "code",
      "execution_count": 40,
      "metadata": {
        "colab": {
          "base_uri": "https://localhost:8080/"
        },
        "id": "BNRn61fEUxlO",
        "outputId": "b2fedbba-3a46-4312-ac2c-2bbde16754d3"
      },
      "outputs": [],
      "source": [
        "import pickle\n",
        "filename = 'sales_data.sav'\n",
        "pickle.dump(lr,open(filename,'wb'))"
      ]
    }
  ],
  "metadata": {
    "colab": {
      "provenance": []
    },
    "kernelspec": {
      "display_name": "Python 3",
      "name": "python3"
    },
    "language_info": {
      "codemirror_mode": {
        "name": "ipython",
        "version": 3
      },
      "file_extension": ".py",
      "mimetype": "text/x-python",
      "name": "python",
      "nbconvert_exporter": "python",
      "pygments_lexer": "ipython3",
      "version": "3.11.5"
    }
  },
  "nbformat": 4,
  "nbformat_minor": 0
}
